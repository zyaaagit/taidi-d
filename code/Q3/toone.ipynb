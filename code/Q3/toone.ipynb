{
 "cells": [
  {
   "cell_type": "code",
   "execution_count": 109,
   "metadata": {},
   "outputs": [],
   "source": [
    "import pandas as pd\n",
    "import numpy as np\n",
    "from sklearn.preprocessing import MinMaxScaler\n",
    "from tqdm import tqdm"
   ]
  },
  {
   "cell_type": "code",
   "execution_count": 110,
   "metadata": {},
   "outputs": [],
   "source": [
    "rule_match_weights = {\n",
    "    '薪资匹配度归一化': 0.35,\n",
    "    '工作经验匹配度归一化': 0.25,\n",
    "    '教育水平匹配度归一化': 0.25,\n",
    "    '工作地点匹配度归一化': 0.15\n",
    "}\n",
    "\n",
    "rule_sat_weights = {\n",
    "    '薪资满意度归一化' : 0.2,\n",
    "    '福利满意度归一化' : 0.2,\n",
    "    '公司满意度归一化' : 0.6\n",
    "}\n",
    "match_weights ={\n",
    "    '规则匹配度' : 0.4,\n",
    "    '长文本匹配度归一化' : 0.4,\n",
    "    '知识图谱匹配度归一化' : 0.2\n",
    "}\n",
    "sat_weights ={\n",
    "    '规则满意度' : 0.4,\n",
    "    '长文本匹配度归一化' : 0.4,\n",
    "    '知识图谱匹配度归一化' : 0.2\n",
    "}"
   ]
  },
  {
   "cell_type": "code",
   "execution_count": 111,
   "metadata": {},
   "outputs": [],
   "source": [
    "joblist_rule_path = '../../demo3/岗位匹配度.csv'\n",
    "resume_rule_path = '../../demo3/求职者满意度.csv'\n",
    "joblist_match_path = '../../demo4/岗位匹配度.csv'\n",
    "resume_sat_path = '../../demo4/求职者满意度.csv'\n",
    "\n",
    "bert_path = '../../demo3/BERT匹配度.csv'\n",
    "graph_path = '../../demo3/知识图谱匹配度.csv'\n",
    "\n",
    "resume_duplicate_path = '../../demo3/重复简历.csv'"
   ]
  },
  {
   "cell_type": "code",
   "execution_count": 112,
   "metadata": {},
   "outputs": [],
   "source": [
    "joblist_rule = pd.read_csv(joblist_rule_path, dtype={'招聘信息 ID' :str , '求职者 ID' : str})\n",
    "resume_rule = pd.read_csv(resume_rule_path, dtype={'招聘信息 ID' :str , '求职者 ID' : str})\n",
    "\n",
    "bert_inf = pd.read_csv(bert_path, dtype={'招聘信息 ID' :str , '求职者 ID' : str})\n",
    "graph_inf = pd.read_csv(graph_path, dtype={'招聘信息 ID' :str , '求职者 ID' : str})\n",
    "\n",
    "resume_duplicate = pd.read_csv(resume_duplicate_path, dtype={'重复样本' :str , '其它重复样本' : str})\n",
    "resume_duplicate.replace(np.nan,'',inplace=True)\n",
    "resume_duplicate = resume_duplicate.drop(resume_duplicate[resume_duplicate.其它重复样本 == ''].index)\n",
    "resume_duplicate = resume_duplicate[['重复样本', '其它重复样本']].copy()"
   ]
  },
  {
   "attachments": {},
   "cell_type": "markdown",
   "metadata": {},
   "source": [
    "合并三张数据集"
   ]
  },
  {
   "cell_type": "code",
   "execution_count": 113,
   "metadata": {},
   "outputs": [],
   "source": [
    "def concat_df(resume_duplicate_copy, inf_copy):\n",
    "    # inf_copy['id'] = inf_copy['求职者 ID']\n",
    "    # inf_copy.set_index('id', inplace=True)\n",
    "    i = 0\n",
    "    dataframe_list = [0] * len(resume_duplicate_copy)\n",
    "    for row in resume_duplicate_copy.itertuples(index=False, name=None):\n",
    "        r_id = row[0]\n",
    "        repeat_ids = row[1].split(',')\n",
    "        n = len(repeat_ids)\n",
    "        demo_df = inf_copy.loc[r_id]\n",
    "        repeat_ids = [item for item in repeat_ids for _ in range(len(demo_df))]\n",
    "        demo_df = inf_copy.loc[r_id]\n",
    "        demo_df = pd.concat([demo_df] * n, ignore_index=True)\n",
    "        demo_df['求职者 ID'] = repeat_ids\n",
    "        dataframe_list[i] = demo_df\n",
    "        print(i)\n",
    "        i += 1\n",
    "    inf_copy = pd.concat(dataframe_list + [inf_copy])\n",
    "    return inf_copy.reset_index(drop=True)"
   ]
  },
  {
   "cell_type": "code",
   "execution_count": 114,
   "metadata": {},
   "outputs": [],
   "source": [
    "joblist_degree = pd.merge(joblist_rule, bert_inf, on = ['招聘信息 ID', '求职者 ID'])\n",
    "joblist_degree = pd.merge(joblist_degree, graph_inf, on = ['招聘信息 ID', '求职者 ID'])\n",
    "joblist_degree['规则匹配度'] = 0\n",
    "joblist_degree['岗位匹配度'] = 0\n",
    "joblist_degree['id'] = joblist_degree['求职者 ID']\n",
    "joblist_degree.set_index('id', inplace=True)\n",
    "\n",
    "resume_degree = pd.merge(resume_rule, bert_inf, on = ['招聘信息 ID', '求职者 ID'])\n",
    "resume_degree = pd.merge(resume_degree, graph_inf, on = ['招聘信息 ID', '求职者 ID'])\n",
    "resume_degree['规则满意度'] = 0\n",
    "resume_degree['求职者满意度'] = 0\n",
    "resume_degree['id'] = resume_degree['求职者 ID']\n",
    "resume_degree.set_index('id', inplace=True)"
   ]
  },
  {
   "cell_type": "code",
   "execution_count": 115,
   "metadata": {},
   "outputs": [
    {
     "name": "stdout",
     "output_type": "stream",
     "text": [
      "0\n",
      "1\n",
      "2\n",
      "3\n",
      "4\n",
      "5\n",
      "6\n",
      "7\n",
      "8\n",
      "9\n",
      "10\n",
      "11\n",
      "12\n",
      "13\n",
      "14\n",
      "15\n",
      "16\n",
      "17\n",
      "18\n",
      "19\n",
      "20\n",
      "21\n",
      "22\n",
      "23\n",
      "24\n",
      "25\n",
      "26\n",
      "27\n",
      "28\n",
      "29\n",
      "30\n",
      "31\n",
      "32\n",
      "33\n",
      "34\n",
      "35\n",
      "36\n",
      "37\n",
      "38\n",
      "39\n",
      "40\n",
      "0\n",
      "1\n",
      "2\n",
      "3\n",
      "4\n",
      "5\n",
      "6\n",
      "7\n",
      "8\n",
      "9\n",
      "10\n",
      "11\n",
      "12\n",
      "13\n",
      "14\n",
      "15\n",
      "16\n",
      "17\n",
      "18\n",
      "19\n",
      "20\n",
      "21\n",
      "22\n",
      "23\n",
      "24\n",
      "25\n",
      "26\n",
      "27\n",
      "28\n",
      "29\n",
      "30\n",
      "31\n",
      "32\n",
      "33\n",
      "34\n",
      "35\n",
      "36\n",
      "37\n",
      "38\n",
      "39\n",
      "40\n"
     ]
    }
   ],
   "source": [
    "joblist_degree = concat_df(resume_duplicate , joblist_degree)\n",
    "resume_degree = concat_df(resume_duplicate , resume_degree)"
   ]
  },
  {
   "cell_type": "code",
   "execution_count": 116,
   "metadata": {},
   "outputs": [],
   "source": [
    "# for i in joblist_degree['求职者 ID']:\n",
    "#     if i in resume_duplicate['重复样本']:\n",
    "#         print(i)\n",
    "#         # resume_demo = joblist_degree[joblist_degree['招聘信息 ID'] == i]\n",
    "#         # for j in resume_duplicate.loc[i,'其它重复样本'].split(','):\n",
    "#         #     resume_demo['求职者 ID'] == j\n",
    "#         #     joblist_degree.append(resume_demo)"
   ]
  },
  {
   "cell_type": "code",
   "execution_count": 117,
   "metadata": {},
   "outputs": [],
   "source": [
    "# # 取消id索引\n",
    "# joblist_degree = joblist_degree.reset_index(drop=True)\n",
    "# resume_degree = resume_degree.reset_index(drop=True)"
   ]
  },
  {
   "cell_type": "code",
   "execution_count": 118,
   "metadata": {},
   "outputs": [],
   "source": [
    "scaler = MinMaxScaler()\n",
    "\n",
    "def ratings_norm(df):\n",
    "    for i in df.columns[2:-1]:\n",
    "        new_name = i + \"归一化\"\n",
    "        df[new_name] = scaler.fit_transform(df[[i]])\n",
    "        df[new_name] = df[new_name].apply(lambda x: 0.0005 if x == 0 else x)\n",
    "    return df  # 返回归一化后的数据\n",
    "joblist_degree_group = joblist_degree.groupby(\"招聘信息 ID\", group_keys=True).apply(ratings_norm)"
   ]
  },
  {
   "cell_type": "code",
   "execution_count": 119,
   "metadata": {},
   "outputs": [],
   "source": [
    "resume_degree_group = resume_degree.groupby('求职者 ID', group_keys=True).apply(ratings_norm)"
   ]
  },
  {
   "cell_type": "code",
   "execution_count": 120,
   "metadata": {},
   "outputs": [],
   "source": [
    "for key,value in rule_match_weights.items():\n",
    "    joblist_degree_group['规则匹配度'] += joblist_degree_group[key] * value"
   ]
  },
  {
   "cell_type": "code",
   "execution_count": 121,
   "metadata": {},
   "outputs": [],
   "source": [
    "for key,value in rule_sat_weights.items():\n",
    "    resume_degree_group['规则满意度'] += resume_degree_group[key] * value"
   ]
  },
  {
   "cell_type": "code",
   "execution_count": 122,
   "metadata": {},
   "outputs": [],
   "source": [
    "for key,value in match_weights.items():\n",
    "    joblist_degree_group['岗位匹配度'] += joblist_degree_group[key] * value"
   ]
  },
  {
   "cell_type": "code",
   "execution_count": 123,
   "metadata": {},
   "outputs": [],
   "source": [
    "for key,value in sat_weights.items():\n",
    "    resume_degree_group['求职者满意度'] += resume_degree_group[key] * value"
   ]
  },
  {
   "cell_type": "code",
   "execution_count": 129,
   "metadata": {},
   "outputs": [],
   "source": [
    "joblist_match = joblist_degree_group[['招聘信息 ID', '求职者 ID', '岗位匹配度']].copy()\n",
    "resume_match = resume_degree_group[['招聘信息 ID', '求职者 ID', '求职者满意度']].copy()"
   ]
  },
  {
   "cell_type": "code",
   "execution_count": 133,
   "metadata": {},
   "outputs": [],
   "source": [
    "joblist_match.reset_index(drop=True, inplace= True)\n",
    "resume_match.reset_index(drop=True, inplace= True)"
   ]
  },
  {
   "cell_type": "code",
   "execution_count": 135,
   "metadata": {},
   "outputs": [],
   "source": [
    "joblist_match.to_csv(joblist_match_path, index = False)\n",
    "resume_match.to_csv(resume_sat_path, index = False)"
   ]
  }
 ],
 "metadata": {
  "kernelspec": {
   "display_name": "NLP",
   "language": "python",
   "name": "python3"
  },
  "language_info": {
   "codemirror_mode": {
    "name": "ipython",
    "version": 3
   },
   "file_extension": ".py",
   "mimetype": "text/x-python",
   "name": "python",
   "nbconvert_exporter": "python",
   "pygments_lexer": "ipython3",
   "version": "3.10.10"
  },
  "orig_nbformat": 4
 },
 "nbformat": 4,
 "nbformat_minor": 2
}
