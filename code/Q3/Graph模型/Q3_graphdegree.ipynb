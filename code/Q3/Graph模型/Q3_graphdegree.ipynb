{
 "cells": [
  {
   "cell_type": "code",
   "execution_count": 32,
   "metadata": {},
   "outputs": [],
   "source": [
    "import pandas as pd\n",
    "import numpy as np\n",
    "from py2neo import Graph, Node, Relationship, NodeMatcher\n",
    "from sentence_transformers import SentenceTransformer, util\n",
    "from tqdm import tqdm"
   ]
  },
  {
   "cell_type": "code",
   "execution_count": 33,
   "metadata": {},
   "outputs": [],
   "source": [
    "joblist_path = '../../../demo3/Q3_jobList.xlsx'\n",
    "resume_path = '../../../demo3/resume_duplicate.xlsx'"
   ]
  },
  {
   "cell_type": "code",
   "execution_count": 34,
   "metadata": {},
   "outputs": [],
   "source": [
    "resume_inf = pd.read_excel(resume_path, dtype = {'id':str})\n",
    "edu_dict = {\n",
    "    np.nan : 0,\n",
    "    '大专': 1,\n",
    "    '本科': 2,\n",
    "    '硕士': 3,\n",
    "    '博士': 4\n",
    "}\n",
    "exp_dict = {\n",
    "    np.nan:-1,\n",
    "    '无经验':0,\n",
    "    '1年工作经验':1,\n",
    "    '2年工作经验':2,\n",
    "    '3年工作经验':3,\n",
    "    '4年工作经验':4,\n",
    "    '5年工作经验':5,\n",
    "    '10年以上工作经验':10\n",
    "}\n",
    "resume_inf['highest_education'] = resume_inf['highest_education'].map(edu_dict)\n",
    "resume_inf['exp_max'] = resume_inf['exp'].map(exp_dict)\n",
    "resume_inf.set_index('id',inplace=True) \n",
    "resume_inf.replace(np.nan, '', inplace= True)"
   ]
  },
  {
   "cell_type": "code",
   "execution_count": 35,
   "metadata": {},
   "outputs": [],
   "source": [
    "joblist_inf = pd.read_excel(joblist_path, dtype = {'id':str})\n",
    "edu_dict = {\n",
    "    '不限' : 0,\n",
    "    '技工' : 0,\n",
    "    '大专': 1,\n",
    "    '本科': 2,\n",
    "    '硕士': 3,\n",
    "    '博士': 4\n",
    "}\n",
    "joblist_inf['edu_require'] = joblist_inf['edu_require'].map(edu_dict)\n",
    "joblist_inf.set_index(['id'],inplace=True)\n",
    "joblist_inf.replace(np.nan, '', inplace= True)"
   ]
  },
  {
   "cell_type": "code",
   "execution_count": 36,
   "metadata": {},
   "outputs": [],
   "source": [
    "class MatchCalculator:\n",
    "    \n",
    "    # 实例化类的时候会自动调用构造函数，不能将有默认值的参数放在没有默认值参数的前面\n",
    "    def __init__(self, graph, bert_model = None):\n",
    "        self.model = bert_model\n",
    "        self.graph = graph\n",
    "\n",
    "    def is_zero(self, resume_id, joblist_id):\n",
    "        # 计算薪资匹配度是否为0\n",
    "        def zero_nature():\n",
    "            resume_nature =resume_inf.loc[resume_id,'workNature']\n",
    "            joblist_nature = joblist_inf.loc[joblist_id,'willNature']\n",
    "            if resume_nature == '':\n",
    "                return 1\n",
    "            elif resume_nature != joblist_nature:\n",
    "                return 0\n",
    "            else:\n",
    "                return 1\n",
    "        def zero_salary():\n",
    "            resume_salarystart =  resume_inf.loc[resume_id, 'willSalaryStart']\n",
    "            joblist_salaryend = joblist_inf.loc[joblist_id, 'maximumWage']\n",
    "            if resume_salarystart == '' or joblist_salaryend == '':\n",
    "                return 1\n",
    "            elif resume_salarystart > joblist_salaryend:\n",
    "                return 0\n",
    "            else: \n",
    "                return 1\n",
    "        # 计算工作地点匹配度是否为0 \n",
    "        def zero_address():\n",
    "            resume_province = resume_inf.loc[resume_id, 'province']\n",
    "            joblist_province = joblist_inf.loc[joblist_id, 'fixed_province']\n",
    "            if resume_province == '' or joblist_province == '':\n",
    "                return 1\n",
    "            elif resume_province != joblist_province:\n",
    "                return 0\n",
    "            else:\n",
    "                return 1\n",
    "        # 计算工作经验匹配度是否为0\n",
    "        def zero_exp():\n",
    "            resume_exp = resume_inf.loc[resume_id, 'exp_max']\n",
    "            joblist_exp_min = joblist_inf.loc[joblist_id, 'exp_min']\n",
    "            if resume_exp == -1 or joblist_exp_min == 0:\n",
    "                return 1\n",
    "            elif resume_exp < joblist_exp_min:\n",
    "                return 0\n",
    "            else:\n",
    "                return 1\n",
    "        def zero_edu():\n",
    "            resume_edu = resume_inf.loc[resume_id, 'highest_education']\n",
    "            joblist_edu = joblist_inf.loc[joblist_id,'edu_require']\n",
    "            # 当resume_edu为0时，就说明应聘者的学历未知\n",
    "            if resume_edu == 0:\n",
    "                return 1\n",
    "            elif resume_edu < joblist_edu:\n",
    "                return 0\n",
    "            else:\n",
    "                return 1\n",
    "        if zero_nature() == 0 or zero_salary() == 0 or zero_address() == 0 or zero_exp()  == 0 or zero_edu() == 0: \n",
    "            return 0\n",
    "        else:\n",
    "            return 1\n",
    "    # def calculate_other_match(self, text1, text2):\n",
    "    #     # 自定义的匹配度计算方法\n",
    "    #     # 例如，可以使用Jaccard相似度计算两个文本之间的匹配度\n",
    "    #     tokens1 = set(text1.split())\n",
    "    #     tokens2 = set(text2.split())\n",
    "    #     return len(tokens1 & tokens2) / len(tokens1 | tokens2)\n",
    "    \n",
    "    def calculate_bert_match(self, resume_id, joblist_id):\n",
    "        resume_embedding = self.model.encode(resume_inf.loc[resume_id, 'concatenated'], convert_to_tensor=True)\n",
    "        joblist_embedding = self.model.encode(joblist_inf.loc[joblist_id, 'concatenated'], convert_to_tensor=True)\n",
    "\n",
    "        # 计算两个句子的余弦相似度\n",
    "        cosine_scores = util.pytorch_cos_sim(resume_embedding, joblist_embedding)\n",
    "        return cosine_scores.item()\n",
    "    \n",
    "    def knowledge_graph_match(self, resume_id, joblist_id):\n",
    "        # 基于Neo4j的知识图谱匹配度计算方法\n",
    "\n",
    "        # 定义您的 Cypher 查询\n",
    "        cypher_query = f\"\"\"\n",
    "        MATCH (a1:ID {{name: '{resume_id}'}})-->(b1)\n",
    "        WITH a1, collect(id(b1)) AS p1\n",
    "        MATCH (a2:ID {{name: '{joblist_id}'}})-->(b2)\n",
    "        WITH a1, p1, a2, collect(id(b2)) AS p2\n",
    "        RETURN a1.name AS from, a2.name AS to, gds.similarity.jaccard(p1, p2) AS similarity\n",
    "        \"\"\"\n",
    "        # 在 Neo4j 中运行查询并获取结果\n",
    "        result = self.graph.run(cypher_query).to_data_frame()\n",
    "        return result.loc[0,'similarity']\n",
    "    \n",
    "    def Match_Calculator(self, resume_id, joblist_id):\n",
    "        if self.is_zero(resume_id, joblist_id) == 0:\n",
    "            # print('匹配度为0')\n",
    "            return 0\n",
    "        else:\n",
    "            return self.knowledge_graph_match(resume_id, joblist_id)\n"
   ]
  },
  {
   "cell_type": "code",
   "execution_count": 37,
   "metadata": {},
   "outputs": [],
   "source": [
    "# model = SentenceTransformer(\"uer/sbert-base-chinese-nli\")\n",
    "graph = Graph('http://localhost:7474/',auth = ('neo4j','Xysan955.'))"
   ]
  },
  {
   "cell_type": "code",
   "execution_count": 38,
   "metadata": {},
   "outputs": [],
   "source": [
    "matchdegree = MatchCalculator(graph)"
   ]
  },
  {
   "cell_type": "code",
   "execution_count": 39,
   "metadata": {},
   "outputs": [],
   "source": [
    "# match_degree = pd.DataFrame(columns=['招聘信息 ID', '求职者 ID','规则匹配度', '长文本匹配度', '知识图谱匹配度', '岗位匹配度'])\n",
    "# Satisfaction_degree = pd.DataFrame(columns=['求职者 ID', '招聘信息 ID', '公司名称', '岗位匹配度'])"
   ]
  },
  {
   "cell_type": "code",
   "execution_count": 40,
   "metadata": {},
   "outputs": [
    {
     "name": "stderr",
     "output_type": "stream",
     "text": [
      "  0%|          | 0/1572 [00:02<?, ?it/s]\n"
     ]
    },
    {
     "ename": "KeyboardInterrupt",
     "evalue": "",
     "output_type": "error",
     "traceback": [
      "\u001b[1;31m---------------------------------------------------------------------------\u001b[0m",
      "\u001b[1;31mKeyboardInterrupt\u001b[0m                         Traceback (most recent call last)",
      "Cell \u001b[1;32mIn[40], line 4\u001b[0m\n\u001b[0;32m      2\u001b[0m \u001b[39mfor\u001b[39;00m i \u001b[39min\u001b[39;00m tqdm(joblist_inf\u001b[39m.\u001b[39mindex\u001b[39m.\u001b[39mtolist()):\n\u001b[0;32m      3\u001b[0m     \u001b[39mfor\u001b[39;00m j \u001b[39min\u001b[39;00m resume_inf\u001b[39m.\u001b[39mindex\u001b[39m.\u001b[39mtolist():\n\u001b[1;32m----> 4\u001b[0m         match_list \u001b[39m=\u001b[39m matchdegree\u001b[39m.\u001b[39;49mMatch_Calculator(j,i)\n\u001b[0;32m      5\u001b[0m         match_degree\u001b[39m.\u001b[39mappend({\u001b[39m'\u001b[39m\u001b[39m招聘信息 ID\u001b[39m\u001b[39m'\u001b[39m : i,\n\u001b[0;32m      6\u001b[0m                              \u001b[39m'\u001b[39m\u001b[39m求职者 ID\u001b[39m\u001b[39m'\u001b[39m : j,\n\u001b[0;32m      7\u001b[0m                              \u001b[39m'\u001b[39m\u001b[39m知识图谱匹配度\u001b[39m\u001b[39m'\u001b[39m : match_list})\n\u001b[0;32m      8\u001b[0m match_degree \u001b[39m=\u001b[39m pd\u001b[39m.\u001b[39mDataFrame(match_degree)\n",
      "Cell \u001b[1;32mIn[36], line 97\u001b[0m, in \u001b[0;36mMatchCalculator.Match_Calculator\u001b[1;34m(self, resume_id, joblist_id)\u001b[0m\n\u001b[0;32m     95\u001b[0m     \u001b[39mreturn\u001b[39;00m \u001b[39m0\u001b[39m\n\u001b[0;32m     96\u001b[0m \u001b[39melse\u001b[39;00m:\n\u001b[1;32m---> 97\u001b[0m     \u001b[39mreturn\u001b[39;00m \u001b[39mself\u001b[39;49m\u001b[39m.\u001b[39;49mknowledge_graph_match(resume_id, joblist_id)\n",
      "Cell \u001b[1;32mIn[36], line 89\u001b[0m, in \u001b[0;36mMatchCalculator.knowledge_graph_match\u001b[1;34m(self, resume_id, joblist_id)\u001b[0m\n\u001b[0;32m     81\u001b[0m cypher_query \u001b[39m=\u001b[39m \u001b[39mf\u001b[39m\u001b[39m\"\"\"\u001b[39m\n\u001b[0;32m     82\u001b[0m \u001b[39mMATCH (a1:ID \u001b[39m\u001b[39m{{\u001b[39;00m\u001b[39mname: \u001b[39m\u001b[39m'\u001b[39m\u001b[39m{\u001b[39;00mresume_id\u001b[39m}\u001b[39;00m\u001b[39m'\u001b[39m\u001b[39m}}\u001b[39;00m\u001b[39m)-->(b1)\u001b[39m\n\u001b[0;32m     83\u001b[0m \u001b[39mWITH a1, collect(id(b1)) AS p1\u001b[39m\n\u001b[1;32m   (...)\u001b[0m\n\u001b[0;32m     86\u001b[0m \u001b[39mRETURN a1.name AS from, a2.name AS to, gds.similarity.jaccard(p1, p2) AS similarity\u001b[39m\n\u001b[0;32m     87\u001b[0m \u001b[39m\u001b[39m\u001b[39m\"\"\"\u001b[39m\n\u001b[0;32m     88\u001b[0m \u001b[39m# 在 Neo4j 中运行查询并获取结果\u001b[39;00m\n\u001b[1;32m---> 89\u001b[0m result \u001b[39m=\u001b[39m \u001b[39mself\u001b[39;49m\u001b[39m.\u001b[39;49mgraph\u001b[39m.\u001b[39;49mrun(cypher_query)\u001b[39m.\u001b[39mto_data_frame()\n\u001b[0;32m     90\u001b[0m \u001b[39mreturn\u001b[39;00m result\u001b[39m.\u001b[39mloc[\u001b[39m0\u001b[39m,\u001b[39m'\u001b[39m\u001b[39msimilarity\u001b[39m\u001b[39m'\u001b[39m]\n",
      "File \u001b[1;32mc:\\Users\\diaobaole\\scoop\\apps\\miniconda3\\current\\envs\\NLP\\lib\\site-packages\\py2neo\\database.py:405\u001b[0m, in \u001b[0;36mGraph.run\u001b[1;34m(self, cypher, parameters, **kwparameters)\u001b[0m\n\u001b[0;32m    395\u001b[0m \u001b[39mdef\u001b[39;00m \u001b[39mrun\u001b[39m(\u001b[39mself\u001b[39m, cypher, parameters\u001b[39m=\u001b[39m\u001b[39mNone\u001b[39;00m, \u001b[39m*\u001b[39m\u001b[39m*\u001b[39mkwparameters):\n\u001b[0;32m    396\u001b[0m \u001b[39m    \u001b[39m\u001b[39m\"\"\" Run a single read/write query within an auto-commit\u001b[39;00m\n\u001b[0;32m    397\u001b[0m \u001b[39m    :class:`~py2neo.Transaction`.\u001b[39;00m\n\u001b[0;32m    398\u001b[0m \n\u001b[1;32m   (...)\u001b[0m\n\u001b[0;32m    403\u001b[0m \u001b[39m    :return:\u001b[39;00m\n\u001b[0;32m    404\u001b[0m \u001b[39m    \"\"\"\u001b[39;00m\n\u001b[1;32m--> 405\u001b[0m     \u001b[39mreturn\u001b[39;00m \u001b[39mself\u001b[39m\u001b[39m.\u001b[39mauto()\u001b[39m.\u001b[39mrun(cypher, parameters, \u001b[39m*\u001b[39m\u001b[39m*\u001b[39mkwparameters)\n",
      "File \u001b[1;32mc:\\Users\\diaobaole\\scoop\\apps\\miniconda3\\current\\envs\\NLP\\lib\\site-packages\\py2neo\\database.py:989\u001b[0m, in \u001b[0;36mTransaction.run\u001b[1;34m(self, cypher, parameters, **kwparameters)\u001b[0m\n\u001b[0;32m    987\u001b[0m     result \u001b[39m=\u001b[39m \u001b[39mself\u001b[39m\u001b[39m.\u001b[39m_connector\u001b[39m.\u001b[39mrun(\u001b[39mself\u001b[39m\u001b[39m.\u001b[39mref, cypher, parameters)\n\u001b[0;32m    988\u001b[0m \u001b[39melse\u001b[39;00m:\n\u001b[1;32m--> 989\u001b[0m     result \u001b[39m=\u001b[39m \u001b[39mself\u001b[39;49m\u001b[39m.\u001b[39;49m_connector\u001b[39m.\u001b[39;49mauto_run(cypher, parameters,\n\u001b[0;32m    990\u001b[0m                                       graph_name\u001b[39m=\u001b[39;49m\u001b[39mself\u001b[39;49m\u001b[39m.\u001b[39;49mgraph\u001b[39m.\u001b[39;49mname,\n\u001b[0;32m    991\u001b[0m                                       readonly\u001b[39m=\u001b[39;49m\u001b[39mself\u001b[39;49m\u001b[39m.\u001b[39;49mreadonly)\n\u001b[0;32m    992\u001b[0m \u001b[39mself\u001b[39m\u001b[39m.\u001b[39m_connector\u001b[39m.\u001b[39mpull(result, \u001b[39m-\u001b[39m\u001b[39m1\u001b[39m)\n\u001b[0;32m    993\u001b[0m \u001b[39mreturn\u001b[39;00m Cursor(result, hydrant)\n",
      "File \u001b[1;32mc:\\Users\\diaobaole\\scoop\\apps\\miniconda3\\current\\envs\\NLP\\lib\\site-packages\\py2neo\\client\\__init__.py:1340\u001b[0m, in \u001b[0;36mConnector.auto_run\u001b[1;34m(self, cypher, parameters, graph_name, readonly)\u001b[0m\n\u001b[0;32m   1338\u001b[0m cx \u001b[39m=\u001b[39m \u001b[39mself\u001b[39m\u001b[39m.\u001b[39m_acquire(graph_name)\n\u001b[0;32m   1339\u001b[0m \u001b[39mtry\u001b[39;00m:\n\u001b[1;32m-> 1340\u001b[0m     \u001b[39mreturn\u001b[39;00m cx\u001b[39m.\u001b[39;49mauto_run(cypher, parameters, graph_name\u001b[39m=\u001b[39;49mgraph_name, readonly\u001b[39m=\u001b[39;49mreadonly)\n\u001b[0;32m   1341\u001b[0m \u001b[39mexcept\u001b[39;00m (ConnectionUnavailable, ConnectionBroken):\n\u001b[0;32m   1342\u001b[0m     \u001b[39mself\u001b[39m\u001b[39m.\u001b[39mprune(cx\u001b[39m.\u001b[39mprofile)\n",
      "File \u001b[1;32mc:\\Users\\diaobaole\\scoop\\apps\\miniconda3\\current\\envs\\NLP\\lib\\site-packages\\py2neo\\client\\http.py:176\u001b[0m, in \u001b[0;36mHTTP.auto_run\u001b[1;34m(self, cypher, parameters, graph_name, readonly)\u001b[0m\n\u001b[0;32m    172\u001b[0m     \u001b[39mraise\u001b[39;00m \u001b[39mTypeError\u001b[39;00m(\u001b[39m\"\u001b[39m\u001b[39mNeo4j \u001b[39m\u001b[39m{}\u001b[39;00m\u001b[39m does not support \u001b[39m\u001b[39m\"\u001b[39m\n\u001b[0;32m    173\u001b[0m                     \u001b[39m\"\u001b[39m\u001b[39mnamed graphs\u001b[39m\u001b[39m\"\u001b[39m\u001b[39m.\u001b[39mformat(\u001b[39mself\u001b[39m\u001b[39m.\u001b[39mneo4j_version))\n\u001b[0;32m    174\u001b[0m \u001b[39m# if readonly:\u001b[39;00m\n\u001b[0;32m    175\u001b[0m \u001b[39m#     log.warning(\"Readonly transactions are not supported over HTTP\")\u001b[39;00m\n\u001b[1;32m--> 176\u001b[0m r \u001b[39m=\u001b[39m \u001b[39mself\u001b[39;49m\u001b[39m.\u001b[39;49m_post(HTTPTransactionRef\u001b[39m.\u001b[39;49mautocommit_uri(graph_name), cypher, parameters)\n\u001b[0;32m    177\u001b[0m rs \u001b[39m=\u001b[39m HTTPResponse\u001b[39m.\u001b[39mfrom_json(r\u001b[39m.\u001b[39mstatus, r\u001b[39m.\u001b[39mdata\u001b[39m.\u001b[39mdecode(\u001b[39m\"\u001b[39m\u001b[39mutf-8\u001b[39m\u001b[39m\"\u001b[39m))\n\u001b[0;32m    178\u001b[0m rs\u001b[39m.\u001b[39maudit()\n",
      "File \u001b[1;32mc:\\Users\\diaobaole\\scoop\\apps\\miniconda3\\current\\envs\\NLP\\lib\\site-packages\\py2neo\\client\\http.py:334\u001b[0m, in \u001b[0;36mHTTP._post\u001b[1;34m(self, url, statement, parameters)\u001b[0m\n\u001b[0;32m    332\u001b[0m     statements \u001b[39m=\u001b[39m []\n\u001b[0;32m    333\u001b[0m \u001b[39mtry\u001b[39;00m:\n\u001b[1;32m--> 334\u001b[0m     \u001b[39mreturn\u001b[39;00m \u001b[39mself\u001b[39;49m\u001b[39m.\u001b[39;49mhttp_pool\u001b[39m.\u001b[39;49mrequest(method\u001b[39m=\u001b[39;49m\u001b[39m\"\u001b[39;49m\u001b[39mPOST\u001b[39;49m\u001b[39m\"\u001b[39;49m,\n\u001b[0;32m    335\u001b[0m                                   url\u001b[39m=\u001b[39;49murl,\n\u001b[0;32m    336\u001b[0m                                   headers\u001b[39m=\u001b[39;49m\u001b[39mdict\u001b[39;49m(\u001b[39mself\u001b[39;49m\u001b[39m.\u001b[39;49mheaders, \u001b[39m*\u001b[39;49m\u001b[39m*\u001b[39;49m{\u001b[39m\"\u001b[39;49m\u001b[39mContent-Type\u001b[39;49m\u001b[39m\"\u001b[39;49m: \u001b[39m\"\u001b[39;49m\u001b[39mapplication/json\u001b[39;49m\u001b[39m\"\u001b[39;49m}),\n\u001b[0;32m    337\u001b[0m                                   body\u001b[39m=\u001b[39;49mjson_dumps({\u001b[39m\"\u001b[39;49m\u001b[39mstatements\u001b[39;49m\u001b[39m\"\u001b[39;49m: statements}))\n\u001b[0;32m    338\u001b[0m \u001b[39mexcept\u001b[39;00m HTTPError \u001b[39mas\u001b[39;00m error:\n\u001b[0;32m    339\u001b[0m     raise_from(ProtocolError(\u001b[39m\"\u001b[39m\u001b[39mFailed to POST to \u001b[39m\u001b[39m%r\u001b[39;00m\u001b[39m\"\u001b[39m \u001b[39m%\u001b[39m url), error)\n",
      "File \u001b[1;32mc:\\Users\\diaobaole\\scoop\\apps\\miniconda3\\current\\envs\\NLP\\lib\\site-packages\\urllib3\\request.py:78\u001b[0m, in \u001b[0;36mRequestMethods.request\u001b[1;34m(self, method, url, fields, headers, **urlopen_kw)\u001b[0m\n\u001b[0;32m     74\u001b[0m     \u001b[39mreturn\u001b[39;00m \u001b[39mself\u001b[39m\u001b[39m.\u001b[39mrequest_encode_url(\n\u001b[0;32m     75\u001b[0m         method, url, fields\u001b[39m=\u001b[39mfields, headers\u001b[39m=\u001b[39mheaders, \u001b[39m*\u001b[39m\u001b[39m*\u001b[39murlopen_kw\n\u001b[0;32m     76\u001b[0m     )\n\u001b[0;32m     77\u001b[0m \u001b[39melse\u001b[39;00m:\n\u001b[1;32m---> 78\u001b[0m     \u001b[39mreturn\u001b[39;00m \u001b[39mself\u001b[39m\u001b[39m.\u001b[39mrequest_encode_body(\n\u001b[0;32m     79\u001b[0m         method, url, fields\u001b[39m=\u001b[39mfields, headers\u001b[39m=\u001b[39mheaders, \u001b[39m*\u001b[39m\u001b[39m*\u001b[39murlopen_kw\n\u001b[0;32m     80\u001b[0m     )\n",
      "File \u001b[1;32mc:\\Users\\diaobaole\\scoop\\apps\\miniconda3\\current\\envs\\NLP\\lib\\site-packages\\urllib3\\request.py:170\u001b[0m, in \u001b[0;36mRequestMethods.request_encode_body\u001b[1;34m(self, method, url, fields, headers, encode_multipart, multipart_boundary, **urlopen_kw)\u001b[0m\n\u001b[0;32m    167\u001b[0m extra_kw[\u001b[39m\"\u001b[39m\u001b[39mheaders\u001b[39m\u001b[39m\"\u001b[39m]\u001b[39m.\u001b[39mupdate(headers)\n\u001b[0;32m    168\u001b[0m extra_kw\u001b[39m.\u001b[39mupdate(urlopen_kw)\n\u001b[1;32m--> 170\u001b[0m \u001b[39mreturn\u001b[39;00m \u001b[39mself\u001b[39m\u001b[39m.\u001b[39murlopen(method, url, \u001b[39m*\u001b[39m\u001b[39m*\u001b[39mextra_kw)\n",
      "File \u001b[1;32mc:\\Users\\diaobaole\\scoop\\apps\\miniconda3\\current\\envs\\NLP\\lib\\site-packages\\urllib3\\connectionpool.py:703\u001b[0m, in \u001b[0;36mHTTPConnectionPool.urlopen\u001b[1;34m(self, method, url, body, headers, retries, redirect, assert_same_host, timeout, pool_timeout, release_conn, chunked, body_pos, **response_kw)\u001b[0m\n\u001b[0;32m    700\u001b[0m     \u001b[39mself\u001b[39m\u001b[39m.\u001b[39m_prepare_proxy(conn)\n\u001b[0;32m    702\u001b[0m \u001b[39m# Make the request on the httplib connection object.\u001b[39;00m\n\u001b[1;32m--> 703\u001b[0m httplib_response \u001b[39m=\u001b[39m \u001b[39mself\u001b[39;49m\u001b[39m.\u001b[39;49m_make_request(\n\u001b[0;32m    704\u001b[0m     conn,\n\u001b[0;32m    705\u001b[0m     method,\n\u001b[0;32m    706\u001b[0m     url,\n\u001b[0;32m    707\u001b[0m     timeout\u001b[39m=\u001b[39;49mtimeout_obj,\n\u001b[0;32m    708\u001b[0m     body\u001b[39m=\u001b[39;49mbody,\n\u001b[0;32m    709\u001b[0m     headers\u001b[39m=\u001b[39;49mheaders,\n\u001b[0;32m    710\u001b[0m     chunked\u001b[39m=\u001b[39;49mchunked,\n\u001b[0;32m    711\u001b[0m )\n\u001b[0;32m    713\u001b[0m \u001b[39m# If we're going to release the connection in ``finally:``, then\u001b[39;00m\n\u001b[0;32m    714\u001b[0m \u001b[39m# the response doesn't need to know about the connection. Otherwise\u001b[39;00m\n\u001b[0;32m    715\u001b[0m \u001b[39m# it will also try to release it and we'll have a double-release\u001b[39;00m\n\u001b[0;32m    716\u001b[0m \u001b[39m# mess.\u001b[39;00m\n\u001b[0;32m    717\u001b[0m response_conn \u001b[39m=\u001b[39m conn \u001b[39mif\u001b[39;00m \u001b[39mnot\u001b[39;00m release_conn \u001b[39melse\u001b[39;00m \u001b[39mNone\u001b[39;00m\n",
      "File \u001b[1;32mc:\\Users\\diaobaole\\scoop\\apps\\miniconda3\\current\\envs\\NLP\\lib\\site-packages\\urllib3\\connectionpool.py:449\u001b[0m, in \u001b[0;36mHTTPConnectionPool._make_request\u001b[1;34m(self, conn, method, url, timeout, chunked, **httplib_request_kw)\u001b[0m\n\u001b[0;32m    444\u001b[0m             httplib_response \u001b[39m=\u001b[39m conn\u001b[39m.\u001b[39mgetresponse()\n\u001b[0;32m    445\u001b[0m         \u001b[39mexcept\u001b[39;00m \u001b[39mBaseException\u001b[39;00m \u001b[39mas\u001b[39;00m e:\n\u001b[0;32m    446\u001b[0m             \u001b[39m# Remove the TypeError from the exception chain in\u001b[39;00m\n\u001b[0;32m    447\u001b[0m             \u001b[39m# Python 3 (including for exceptions like SystemExit).\u001b[39;00m\n\u001b[0;32m    448\u001b[0m             \u001b[39m# Otherwise it looks like a bug in the code.\u001b[39;00m\n\u001b[1;32m--> 449\u001b[0m             six\u001b[39m.\u001b[39;49mraise_from(e, \u001b[39mNone\u001b[39;49;00m)\n\u001b[0;32m    450\u001b[0m \u001b[39mexcept\u001b[39;00m (SocketTimeout, BaseSSLError, SocketError) \u001b[39mas\u001b[39;00m e:\n\u001b[0;32m    451\u001b[0m     \u001b[39mself\u001b[39m\u001b[39m.\u001b[39m_raise_timeout(err\u001b[39m=\u001b[39me, url\u001b[39m=\u001b[39murl, timeout_value\u001b[39m=\u001b[39mread_timeout)\n",
      "File \u001b[1;32m<string>:3\u001b[0m, in \u001b[0;36mraise_from\u001b[1;34m(value, from_value)\u001b[0m\n",
      "File \u001b[1;32mc:\\Users\\diaobaole\\scoop\\apps\\miniconda3\\current\\envs\\NLP\\lib\\site-packages\\urllib3\\connectionpool.py:444\u001b[0m, in \u001b[0;36mHTTPConnectionPool._make_request\u001b[1;34m(self, conn, method, url, timeout, chunked, **httplib_request_kw)\u001b[0m\n\u001b[0;32m    441\u001b[0m \u001b[39mexcept\u001b[39;00m \u001b[39mTypeError\u001b[39;00m:\n\u001b[0;32m    442\u001b[0m     \u001b[39m# Python 3\u001b[39;00m\n\u001b[0;32m    443\u001b[0m     \u001b[39mtry\u001b[39;00m:\n\u001b[1;32m--> 444\u001b[0m         httplib_response \u001b[39m=\u001b[39m conn\u001b[39m.\u001b[39;49mgetresponse()\n\u001b[0;32m    445\u001b[0m     \u001b[39mexcept\u001b[39;00m \u001b[39mBaseException\u001b[39;00m \u001b[39mas\u001b[39;00m e:\n\u001b[0;32m    446\u001b[0m         \u001b[39m# Remove the TypeError from the exception chain in\u001b[39;00m\n\u001b[0;32m    447\u001b[0m         \u001b[39m# Python 3 (including for exceptions like SystemExit).\u001b[39;00m\n\u001b[0;32m    448\u001b[0m         \u001b[39m# Otherwise it looks like a bug in the code.\u001b[39;00m\n\u001b[0;32m    449\u001b[0m         six\u001b[39m.\u001b[39mraise_from(e, \u001b[39mNone\u001b[39;00m)\n",
      "File \u001b[1;32mc:\\Users\\diaobaole\\scoop\\apps\\miniconda3\\current\\envs\\NLP\\lib\\http\\client.py:1374\u001b[0m, in \u001b[0;36mHTTPConnection.getresponse\u001b[1;34m(self)\u001b[0m\n\u001b[0;32m   1372\u001b[0m \u001b[39mtry\u001b[39;00m:\n\u001b[0;32m   1373\u001b[0m     \u001b[39mtry\u001b[39;00m:\n\u001b[1;32m-> 1374\u001b[0m         response\u001b[39m.\u001b[39;49mbegin()\n\u001b[0;32m   1375\u001b[0m     \u001b[39mexcept\u001b[39;00m \u001b[39mConnectionError\u001b[39;00m:\n\u001b[0;32m   1376\u001b[0m         \u001b[39mself\u001b[39m\u001b[39m.\u001b[39mclose()\n",
      "File \u001b[1;32mc:\\Users\\diaobaole\\scoop\\apps\\miniconda3\\current\\envs\\NLP\\lib\\http\\client.py:318\u001b[0m, in \u001b[0;36mHTTPResponse.begin\u001b[1;34m(self)\u001b[0m\n\u001b[0;32m    316\u001b[0m \u001b[39m# read until we get a non-100 response\u001b[39;00m\n\u001b[0;32m    317\u001b[0m \u001b[39mwhile\u001b[39;00m \u001b[39mTrue\u001b[39;00m:\n\u001b[1;32m--> 318\u001b[0m     version, status, reason \u001b[39m=\u001b[39m \u001b[39mself\u001b[39;49m\u001b[39m.\u001b[39;49m_read_status()\n\u001b[0;32m    319\u001b[0m     \u001b[39mif\u001b[39;00m status \u001b[39m!=\u001b[39m CONTINUE:\n\u001b[0;32m    320\u001b[0m         \u001b[39mbreak\u001b[39;00m\n",
      "File \u001b[1;32mc:\\Users\\diaobaole\\scoop\\apps\\miniconda3\\current\\envs\\NLP\\lib\\http\\client.py:279\u001b[0m, in \u001b[0;36mHTTPResponse._read_status\u001b[1;34m(self)\u001b[0m\n\u001b[0;32m    278\u001b[0m \u001b[39mdef\u001b[39;00m \u001b[39m_read_status\u001b[39m(\u001b[39mself\u001b[39m):\n\u001b[1;32m--> 279\u001b[0m     line \u001b[39m=\u001b[39m \u001b[39mstr\u001b[39m(\u001b[39mself\u001b[39;49m\u001b[39m.\u001b[39;49mfp\u001b[39m.\u001b[39;49mreadline(_MAXLINE \u001b[39m+\u001b[39;49m \u001b[39m1\u001b[39;49m), \u001b[39m\"\u001b[39m\u001b[39miso-8859-1\u001b[39m\u001b[39m\"\u001b[39m)\n\u001b[0;32m    280\u001b[0m     \u001b[39mif\u001b[39;00m \u001b[39mlen\u001b[39m(line) \u001b[39m>\u001b[39m _MAXLINE:\n\u001b[0;32m    281\u001b[0m         \u001b[39mraise\u001b[39;00m LineTooLong(\u001b[39m\"\u001b[39m\u001b[39mstatus line\u001b[39m\u001b[39m\"\u001b[39m)\n",
      "File \u001b[1;32mc:\\Users\\diaobaole\\scoop\\apps\\miniconda3\\current\\envs\\NLP\\lib\\socket.py:705\u001b[0m, in \u001b[0;36mSocketIO.readinto\u001b[1;34m(self, b)\u001b[0m\n\u001b[0;32m    703\u001b[0m \u001b[39mwhile\u001b[39;00m \u001b[39mTrue\u001b[39;00m:\n\u001b[0;32m    704\u001b[0m     \u001b[39mtry\u001b[39;00m:\n\u001b[1;32m--> 705\u001b[0m         \u001b[39mreturn\u001b[39;00m \u001b[39mself\u001b[39;49m\u001b[39m.\u001b[39;49m_sock\u001b[39m.\u001b[39;49mrecv_into(b)\n\u001b[0;32m    706\u001b[0m     \u001b[39mexcept\u001b[39;00m timeout:\n\u001b[0;32m    707\u001b[0m         \u001b[39mself\u001b[39m\u001b[39m.\u001b[39m_timeout_occurred \u001b[39m=\u001b[39m \u001b[39mTrue\u001b[39;00m\n",
      "\u001b[1;31mKeyboardInterrupt\u001b[0m: "
     ]
    }
   ],
   "source": [
    "match_degree = []\n",
    "for i in tqdm(joblist_inf.index.tolist()):\n",
    "    for j in resume_inf.index.tolist():\n",
    "        match_list = matchdegree.Match_Calculator(j,i)\n",
    "        match_degree.append({'招聘信息 ID' : i,\n",
    "                             '求职者 ID' : j,\n",
    "                             '知识图谱匹配度' : match_list})\n",
    "match_degree = pd.DataFrame(match_degree)"
   ]
  },
  {
   "cell_type": "code",
   "execution_count": 10,
   "metadata": {},
   "outputs": [],
   "source": [
    "match_degree_copy = match_degree.copy()\n",
    "from sklearn.preprocessing import MinMaxScaler\n",
    "\n",
    "scaler = MinMaxScaler()\n",
    "match_degree_copy.drop(match_degree_copy.loc[match_degree_copy['知识图谱匹配度']==0].index, inplace=True)\n",
    "\n",
    "def ratings_norm(df):\n",
    "    df[\"知识图谱匹配度归一化\"] = scaler.fit_transform(df[['知识图谱匹配度']])\n",
    "    return df  # 返回归一化后的数据\n",
    "\n",
    "match_degree_group_joblist = match_degree_copy.groupby(\"招聘信息 ID\").apply(ratings_norm)\n",
    "match_degree_group_joblist['知识图谱匹配度归一化'] = match_degree_group_joblist['知识图谱匹配度归一化'].apply(lambda x: 0.0005 if x == 0 else x)\n",
    "match_degree_group_joblist.to_excel('../../../demo3/知识图谱匹配度_招聘信息.xlsx')"
   ]
  },
  {
   "cell_type": "code",
   "execution_count": 11,
   "metadata": {},
   "outputs": [],
   "source": [
    "match_degree_copy = match_degree.copy()\n",
    "from sklearn.preprocessing import MinMaxScaler\n",
    "\n",
    "scaler = MinMaxScaler()\n",
    "match_degree_copy.drop(match_degree_copy.loc[match_degree_copy['知识图谱匹配度']==0].index, inplace=True)\n",
    "\n",
    "def ratings_norm(df):\n",
    "    df[\"知识图谱匹配度归一化\"] = scaler.fit_transform(df[['知识图谱匹配度']])\n",
    "    return df  # 返回归一化后的数据\n",
    "\n",
    "match_degree_group_resume = match_degree_copy.groupby('求职者 ID').apply(ratings_norm)\n",
    "match_degree_group_resume['知识图谱匹配度归一化'] = match_degree_group_resume['知识图谱匹配度归一化'].apply(lambda x: 0.0005 if x == 0 else x)\n",
    "match_degree_group_resume.to_excel('../../../demo3/知识图谱匹配度_求职者.xlsx')"
   ]
  }
 ],
 "metadata": {
  "kernelspec": {
   "display_name": "nlp",
   "language": "python",
   "name": "python3"
  },
  "language_info": {
   "codemirror_mode": {
    "name": "ipython",
    "version": 3
   },
   "file_extension": ".py",
   "mimetype": "text/x-python",
   "name": "python",
   "nbconvert_exporter": "python",
   "pygments_lexer": "ipython3",
   "version": "3.10.10"
  },
  "orig_nbformat": 4
 },
 "nbformat": 4,
 "nbformat_minor": 2
}
