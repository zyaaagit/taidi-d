{
 "cells": [
  {
   "cell_type": "code",
   "execution_count": 14,
   "metadata": {},
   "outputs": [],
   "source": [
    "import pandas as pd\n",
    "import numpy as np\n",
    "from tqdm import tqdm"
   ]
  },
  {
   "cell_type": "code",
   "execution_count": 15,
   "metadata": {},
   "outputs": [],
   "source": [
    "resume_path = '../../../demo3/resume_duplicate.xlsx'\n",
    "joblist_path = '../../../demo3/Q3_joblist.xlsx'"
   ]
  },
  {
   "cell_type": "code",
   "execution_count": 16,
   "metadata": {},
   "outputs": [],
   "source": [
    "resume_inf = pd.read_excel(resume_path, dtype = {'id':str})\n",
    "edu_dict = {\n",
    "    np.nan : 0,\n",
    "    '大专': 1,\n",
    "    '本科': 2,\n",
    "    '硕士': 3,\n",
    "    '博士': 4\n",
    "}\n",
    "exp_dict = {\n",
    "    np.nan:-1,\n",
    "    '无经验':0,\n",
    "    '1年工作经验':1,\n",
    "    '2年工作经验':2,\n",
    "    '3年工作经验':3,\n",
    "    '4年工作经验':4,\n",
    "    '5年工作经验':5,\n",
    "    '10年以上工作经验':10\n",
    "}\n",
    "resume_inf['highest_education'] = resume_inf['highest_education'].map(edu_dict)\n",
    "resume_inf['exp_max'] = resume_inf['exp'].map(exp_dict)\n",
    "resume_inf.set_index('id',inplace=True) \n",
    "resume_inf.replace(np.nan, '', inplace= True)"
   ]
  },
  {
   "cell_type": "code",
   "execution_count": 17,
   "metadata": {},
   "outputs": [],
   "source": [
    "joblist_inf = pd.read_excel(joblist_path, dtype = {'id':str})\n",
    "edu_dict = {\n",
    "    '不限' : 0,\n",
    "    '技工' : 0,\n",
    "    '大专': 1,\n",
    "    '本科': 2,\n",
    "    '硕士': 3,\n",
    "    '博士': 4\n",
    "}\n",
    "joblist_inf['edu_require'] = joblist_inf['edu_require'].map(edu_dict)\n",
    "joblist_inf.set_index(['id'],inplace=True)\n",
    "joblist_inf.replace(np.nan, '', inplace= True)"
   ]
  },
  {
   "cell_type": "code",
   "execution_count": 18,
   "metadata": {},
   "outputs": [],
   "source": [
    "welfare_weights = {\n",
    "    '年终奖金': 0.15,\n",
    "    '餐饮补贴': 0.05,\n",
    "    '免费住宿': 0.1,\n",
    "    '绩效奖金': 0.1,\n",
    "    '交通补贴': 0.05,\n",
    "    '员工旅游': 0.05,\n",
    "    '五险一金': 0.15,\n",
    "    '弹性工作': 0.05,\n",
    "    '股票期权': 0.1,\n",
    "    '通讯补贴': 0.025,\n",
    "    '专业培训': 0.075,\n",
    "    '定期体检': 0.05,\n",
    "    '免费班车': 0.025,\n",
    "    '出国机会': 0.075\n",
    "}"
   ]
  },
  {
   "cell_type": "code",
   "execution_count": 19,
   "metadata": {},
   "outputs": [],
   "source": [
    "company_size_weights = {\n",
    "    '少于50人': 0.5,\n",
    "    '50-100人': 0.55,\n",
    "    '150-500人': 0.6,\n",
    "    '500-1000人': 0.65,\n",
    "    '1000-1500人': 0.7,\n",
    "    '1000-5000人': 0.8,\n",
    "    '5000-10000人': 0.9,\n",
    "    '10000人以上': 1\n",
    "}\n",
    "conpany_capi_weights = {\n",
    "    '' : 0.8,\n",
    "    '100万元以内': 0.2,\n",
    "    '100-200万': 0.3,\n",
    "    '200-500万': 0.4,\n",
    "    '500-1000万': 0.8,\n",
    "    '1000万以上': 1\n",
    "}\n",
    "\n",
    "company_type_weights = {\n",
    "    '外资': 0.8,\n",
    "    '私企': 0.4,\n",
    "    '上市公司': 1,\n",
    "    '合资': 0.6,\n",
    "    '国企': 0.5,\n",
    "    '民营公司': 0.3\n",
    "}"
   ]
  },
  {
   "cell_type": "code",
   "execution_count": 20,
   "metadata": {},
   "outputs": [],
   "source": [
    "def count_welfare_score(x):\n",
    "    if x == '':\n",
    "        return 0\n",
    "    else:\n",
    "        benefits_list = x.split(',')\n",
    "        total_score = 0\n",
    "        for benefit in benefits_list:\n",
    "            total_score += welfare_weights[benefit]\n",
    "        return total_score\n",
    "    \n",
    "joblist_inf['welfare_score'] = joblist_inf['welfare'].apply(count_welfare_score)\n",
    "joblist_inf['person_score'] = joblist_inf['job_personScope'].map(company_size_weights)\n",
    "joblist_inf['registCapi_score'] = joblist_inf['job_registCapi'].map(conpany_capi_weights)\n",
    "joblist_inf['type_score'] = joblist_inf['eA_econKind'].map(company_type_weights)"
   ]
  },
  {
   "cell_type": "code",
   "execution_count": 21,
   "metadata": {},
   "outputs": [],
   "source": [
    "class MatchCalculator:\n",
    "    \n",
    "    # 实例化类的时候会自动调用构造函数，不能将有默认值的参数放在没有默认值参数的前面\n",
    "    def __init__(self,  bert_model = None , graph = None):\n",
    "        self.model = bert_model\n",
    "        self.graph = graph\n",
    "\n",
    "    def is_zero(self, resume_id, joblist_id):\n",
    "        # 计算薪资匹配度是否为0\n",
    "        def zero_nature():\n",
    "            resume_nature =resume_inf.loc[resume_id,'workNature']\n",
    "            joblist_nature = joblist_inf.loc[joblist_id,'willNature']\n",
    "            if resume_nature == '':\n",
    "                return 1\n",
    "            elif resume_nature != joblist_nature:\n",
    "                return 0\n",
    "            else:\n",
    "                return 1\n",
    "        def zero_salary():\n",
    "            resume_salarystart =  resume_inf.loc[resume_id, 'willSalaryStart']\n",
    "            joblist_salaryend = joblist_inf.loc[joblist_id, 'maximumWage']\n",
    "            if resume_salarystart == '' or joblist_salaryend == '':\n",
    "                return 1\n",
    "            elif resume_salarystart > joblist_salaryend:\n",
    "                return 0\n",
    "            else: \n",
    "                return 1\n",
    "        # 计算工作地点匹配度是否为0 \n",
    "        def zero_address():\n",
    "            resume_province = resume_inf.loc[resume_id, 'province']\n",
    "            joblist_province = joblist_inf.loc[joblist_id, 'fixed_province']\n",
    "            if resume_province == '' or joblist_province == '':\n",
    "                return 1\n",
    "            elif resume_province != joblist_province:\n",
    "                return 0\n",
    "            else:\n",
    "                return 1\n",
    "        # 计算工作经验匹配度是否为0\n",
    "        def zero_exp():\n",
    "            resume_exp = resume_inf.loc[resume_id, 'exp_max']\n",
    "            joblist_exp_min = joblist_inf.loc[joblist_id, 'exp_min']\n",
    "            if resume_exp == -1 or joblist_exp_min == 0:\n",
    "                return 1\n",
    "            elif resume_exp < joblist_exp_min:\n",
    "                return 0\n",
    "            else:\n",
    "                return 1\n",
    "        def zero_edu():\n",
    "            resume_edu = resume_inf.loc[resume_id, 'highest_education']\n",
    "            joblist_edu = joblist_inf.loc[joblist_id,'edu_require']\n",
    "            # 当resume_edu为0时，就说明应聘者的学历未知\n",
    "            if resume_edu == 0:\n",
    "                return 1\n",
    "            elif resume_edu < joblist_edu:\n",
    "                return 0\n",
    "            else:\n",
    "                return 1\n",
    "        if zero_nature() == 0 or zero_salary() == 0 or zero_address() == 0 or zero_exp()  == 0 or zero_edu() == 0:\n",
    "            return 0\n",
    "        else:\n",
    "            return 1\n",
    "\n",
    "    def calculate_other_match(self, resume_id, joblist_id):\n",
    "        # 自定义的匹配度计算方法\n",
    "\n",
    "        # 薪资满意度，计算公司最高薪资与求职者要求最高薪资的差值\n",
    "        def salary_sat():\n",
    "            # resume_min_salary =  resume_inf.loc[resume_id, 'willSalaryStart']\n",
    "            resume_max_salary =  resume_inf.loc[resume_id, 'willSalaryEnd']\n",
    "            # joblist_min_salary = joblist_inf.loc[joblist_id, 'minimumWage']\n",
    "            joblist_max_salary = joblist_inf.loc[joblist_id, 'maximumWage']\n",
    "            if joblist_max_salary == resume_max_salary:\n",
    "                return 0\n",
    "            else:\n",
    "                return joblist_max_salary - resume_max_salary\n",
    "        \n",
    "        # 福利待遇满意度\n",
    "        def welfare_sat():\n",
    "            return joblist_inf.loc[joblist_id,'welfare_score']\n",
    "        \n",
    "        # 公司满意度\n",
    "        def company_sat():\n",
    "            person_score = joblist_inf.loc[joblist_id, 'person_score']\n",
    "            cspi_score = joblist_inf.loc[joblist_id, 'registCapi_score']\n",
    "            type_score = joblist_inf.loc[joblist_id, 'type_score']\n",
    "            return (person_score + cspi_score + type_score)/3\n",
    "\n",
    "        return [salary_sat(), welfare_sat(), company_sat()]\n",
    "    # def calculate_bert_match(self, resume_id, joblist_id):\n",
    "    #     resume_embedding = self.model.encode(resume_inf.loc[resume_id, 'concatenated'], convert_to_tensor=True)\n",
    "    #     joblist_embedding = self.model.encode(joblist_inf.loc[joblist_id, 'concatenated'], convert_to_tensor=True)\n",
    "\n",
    "    #     # 计算两个句子的余弦相似度\n",
    "    #     cosine_scores = util.pytorch_cos_sim(resume_embedding, joblist_embedding)\n",
    "    #     return cosine_scores.item()\n",
    "    \n",
    "    # def knowledge_graph_match(self, resume_id, joblist_id):\n",
    "    #     # 基于Neo4j的知识图谱匹配度计算方法\n",
    "\n",
    "    #     # 定义您的 Cypher 查询\n",
    "    #     cypher_query = f\"\"\"\n",
    "    #     MATCH (a1:ID {{name: '{resume_id}'}})-->(b1)\n",
    "    #     WITH a1, collect(id(b1)) AS p1\n",
    "    #     MATCH (a2:ID {{name: '{joblist_id}'}})-->(b2)\n",
    "    #     WITH a1, p1, a2, collect(id(b2)) AS p2\n",
    "    #     RETURN a1.name AS from, a2.name AS to, gds.similarity.jaccard(p1, p2) AS similarity\n",
    "    #     \"\"\"\n",
    "    #     # 在 Neo4j 中运行查询并获取结果\n",
    "    #     result = self.graph.run(cypher_query).to_data_frame()\n",
    "    #     return result.loc[0,'similarity']\n",
    "    \n",
    "    def Match_Calculator(self, resume_id, joblist_id):\n",
    "        if self.is_zero(resume_id, joblist_id) == 0:\n",
    "            # print('匹配度为0')\n",
    "            return [0,0,0]\n",
    "        else:\n",
    "            return self.calculate_other_match(resume_id, joblist_id)\n"
   ]
  },
  {
   "cell_type": "code",
   "execution_count": 22,
   "metadata": {},
   "outputs": [],
   "source": [
    "# model = SentenceTransformer(\"uer/sbert-base-chinese-nli\")\n",
    "# graph = Graph('http://localhost:7474/',auth = ('neo4j','zhouyang201202'))"
   ]
  },
  {
   "cell_type": "code",
   "execution_count": 23,
   "metadata": {},
   "outputs": [
    {
     "data": {
      "text/plain": [
       "[0, 0.25, 0.5666666666666667]"
      ]
     },
     "execution_count": 23,
     "metadata": {},
     "output_type": "execute_result"
    }
   ],
   "source": [
    "matchdegree = MatchCalculator()\n",
    "match_list = matchdegree.Match_Calculator('1461512488951611392', '1374181407047421952')\n",
    "match_list"
   ]
  },
  {
   "cell_type": "code",
   "execution_count": 24,
   "metadata": {},
   "outputs": [],
   "source": [
    "match_degree = pd.DataFrame(columns=['招聘信息 ID', '求职者 ID','规则匹配度', '长文本匹配度', '知识图谱匹配度', '岗位匹配度'])\n",
    "Satisfaction_degree = pd.DataFrame(columns=['求职者 ID', '招聘信息 ID', '公司名称', '岗位匹配度'])"
   ]
  },
  {
   "cell_type": "code",
   "execution_count": 25,
   "metadata": {},
   "outputs": [
    {
     "name": "stderr",
     "output_type": "stream",
     "text": [
      "100%|██████████| 1572/1572 [00:27<00:00, 57.66it/s]\n"
     ]
    }
   ],
   "source": [
    "match_degree = []\n",
    "for i in tqdm(joblist_inf.index.tolist()):\n",
    "    for j in resume_inf.index.tolist():\n",
    "        match_list = matchdegree.Match_Calculator(j,i)\n",
    "        if match_list == [0,0,0]:\n",
    "            continue\n",
    "        else:\n",
    "            match_degree.append({'招聘信息 ID' : i,\n",
    "                                '求职者 ID' : j,\n",
    "                                '薪资满意度' : match_list[0],\n",
    "                                '福利满意度' : match_list[1],\n",
    "                                '公司满意度' : match_list[2]})\n",
    "match_degree = pd.DataFrame(match_degree)"
   ]
  },
  {
   "cell_type": "code",
   "execution_count": 26,
   "metadata": {},
   "outputs": [],
   "source": [
    "match_degree.to_csv('../../../demo3/求职者满意度.csv',index= False)"
   ]
  },
  {
   "cell_type": "code",
   "execution_count": 16,
   "metadata": {},
   "outputs": [],
   "source": [
    "# match_degree = pd.read_excel('../../../demo3/BERT匹配度.xlsx',dtype = {'招聘信息 ID':str,'求职者 ID':str}).drop(columns='长文本匹配度归一化').drop(columns='Unnamed: 0')"
   ]
  },
  {
   "cell_type": "code",
   "execution_count": 14,
   "metadata": {},
   "outputs": [],
   "source": [
    "match_degree_copy = match_degree.copy()\n",
    "from sklearn.preprocessing import MinMaxScaler\n",
    "\n",
    "scaler = MinMaxScaler()\n",
    "match_degree_copy.drop(match_degree_copy.loc[match_degree_copy['长文本匹配度']==0].index, inplace=True)\n",
    "\n",
    "def ratings_norm(df):\n",
    "    df[\"长文本匹配度归一化\"] = scaler.fit_transform(df[['长文本匹配度']])\n",
    "    return df  # 返回归一化后的数据\n",
    "\n",
    "match_degree_group_joblist = match_degree_copy.groupby(\"招聘信息 ID\", group_keys=True).apply(ratings_norm)\n",
    "match_degree_group_joblist['长文本匹配度归一化'] = match_degree_group_joblist['长文本匹配度归一化'].apply(lambda x: 0.0005 if x == 0 else x)\n",
    "\n",
    "match_degree_group_joblist.to_excel('../../../demo3/BERT匹配度_招聘信息.xlsx')"
   ]
  },
  {
   "cell_type": "code",
   "execution_count": 15,
   "metadata": {},
   "outputs": [],
   "source": [
    "match_degree_copy = match_degree.copy()\n",
    "from sklearn.preprocessing import MinMaxScaler\n",
    "\n",
    "scaler = MinMaxScaler()\n",
    "match_degree_copy.drop(match_degree_copy.loc[match_degree_copy['长文本匹配度']==0].index, inplace=True)\n",
    "\n",
    "def ratings_norm(df):\n",
    "    df[\"长文本匹配度归一化\"] = scaler.fit_transform(df[['长文本匹配度']])\n",
    "    return df  # 返回归一化后的数据\n",
    "\n",
    "match_degree_group_resume = match_degree_copy.groupby('求职者 ID', group_keys=True).apply(ratings_norm)\n",
    "match_degree_group_resume['长文本匹配度归一化'] = match_degree_group_resume['长文本匹配度归一化'].apply(lambda x: 0.0005 if x == 0 else x)\n",
    "match_degree_group_resume.to_excel('../../../demo3/BERT匹配度_求职者.xlsx')"
   ]
  }
 ],
 "metadata": {
  "kernelspec": {
   "display_name": "nlp",
   "language": "python",
   "name": "python3"
  },
  "language_info": {
   "codemirror_mode": {
    "name": "ipython",
    "version": 3
   },
   "file_extension": ".py",
   "mimetype": "text/x-python",
   "name": "python",
   "nbconvert_exporter": "python",
   "pygments_lexer": "ipython3",
   "version": "3.9.13"
  },
  "orig_nbformat": 4
 },
 "nbformat": 4,
 "nbformat_minor": 2
}
