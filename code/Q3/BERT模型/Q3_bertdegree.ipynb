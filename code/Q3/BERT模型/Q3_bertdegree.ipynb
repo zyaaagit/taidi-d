{
 "cells": [
  {
   "cell_type": "code",
   "execution_count": 1,
   "metadata": {},
   "outputs": [],
   "source": [
    "import pandas as pd\n",
    "import numpy as np\n",
    "from py2neo import Graph, Node, Relationship, NodeMatcher\n",
    "from sentence_transformers import SentenceTransformer, util\n",
    "from tqdm import tqdm"
   ]
  },
  {
   "cell_type": "code",
   "execution_count": 2,
   "metadata": {},
   "outputs": [],
   "source": [
    "resume_path = '../../../demo3/resume_duplicate.xlsx'\n",
    "joblist_path = '../../../demo3/Q3_joblist.xlsx'"
   ]
  },
  {
   "cell_type": "code",
   "execution_count": 3,
   "metadata": {},
   "outputs": [],
   "source": [
    "resume_inf = pd.read_excel(resume_path, dtype = {'id':str})\n",
    "edu_dict = {\n",
    "    np.nan : 0,\n",
    "    '大专': 1,\n",
    "    '本科': 2,\n",
    "    '硕士': 3,\n",
    "    '博士': 4\n",
    "}\n",
    "exp_dict = {\n",
    "    np.nan:-1,\n",
    "    '无经验':0,\n",
    "    '1年工作经验':1,\n",
    "    '2年工作经验':2,\n",
    "    '3年工作经验':3,\n",
    "    '4年工作经验':4,\n",
    "    '5年工作经验':5,\n",
    "    '10年以上工作经验':10\n",
    "}\n",
    "resume_inf['highest_education'] = resume_inf['highest_education'].map(edu_dict)\n",
    "resume_inf['exp_max'] = resume_inf['exp'].map(exp_dict)\n",
    "resume_inf.set_index('id',inplace=True) "
   ]
  },
  {
   "cell_type": "code",
   "execution_count": 4,
   "metadata": {},
   "outputs": [],
   "source": [
    "joblist_inf = pd.read_excel(joblist_path, dtype = {'id':str})\n",
    "edu_dict = {\n",
    "    '不限' : 0,\n",
    "    '技工' : 0,\n",
    "    '大专': 1,\n",
    "    '本科': 2,\n",
    "    '硕士': 3,\n",
    "    '博士': 4\n",
    "}\n",
    "joblist_inf['edu_require'] = joblist_inf['edu_require'].map(edu_dict)\n",
    "joblist_inf.set_index(['id'],inplace=True)"
   ]
  },
  {
   "cell_type": "code",
   "execution_count": 7,
   "metadata": {},
   "outputs": [],
   "source": [
    "class MatchCalculator:\n",
    "    \n",
    "    # 实例化类的时候会自动调用构造函数，不能将有默认值的参数放在没有默认值参数的前面\n",
    "    def __init__(self,  bert_model, graph = None):\n",
    "        self.model = bert_model\n",
    "        self.graph = graph\n",
    "\n",
    "    def is_zero(self, resume_id, joblist_id):\n",
    "        # 计算薪资匹配度是否为0\n",
    "        def zero_nature():\n",
    "            resume_nature =resume_inf.loc[resume_id,'workNature']\n",
    "            joblist_nature = joblist_inf.loc[joblist_id,'willNature']\n",
    "            if resume_nature == '':\n",
    "                return 1\n",
    "            elif resume_nature != joblist_nature:\n",
    "                return 0\n",
    "            else:\n",
    "                return 1\n",
    "        def zero_salary():\n",
    "            resume_salarystart =  resume_inf.loc[resume_id, 'willSalaryStart']\n",
    "            joblist_salaryend = joblist_inf.loc[joblist_id, 'maximumWage']\n",
    "            if resume_salarystart == '' or joblist_salaryend == '':\n",
    "                return 1\n",
    "            elif resume_salarystart > joblist_salaryend:\n",
    "                return 0\n",
    "            else: \n",
    "                return 1\n",
    "        # 计算工作地点匹配度是否为0 \n",
    "        def zero_address():\n",
    "            resume_province = resume_inf.loc[resume_id, 'province']\n",
    "            joblist_province = joblist_inf.loc[joblist_id, 'fixed_province']\n",
    "            if resume_province == '' or joblist_province == '':\n",
    "                return 1\n",
    "            elif resume_province != joblist_province:\n",
    "                return 0\n",
    "            else:\n",
    "                return 1\n",
    "        # 计算工作经验匹配度是否为0\n",
    "        def zero_exp():\n",
    "            resume_exp = resume_inf.loc[resume_id, 'exp_max']\n",
    "            joblist_exp_min = joblist_inf.loc[joblist_id, 'exp_min']\n",
    "            if resume_exp == -1 or joblist_exp_min == 0:\n",
    "                return 1\n",
    "            elif resume_exp < joblist_exp_min:\n",
    "                return 0\n",
    "            else:\n",
    "                return 1\n",
    "        def zero_edu():\n",
    "            resume_edu = resume_inf.loc[resume_id, 'highest_education']\n",
    "            joblist_edu = joblist_inf.loc[joblist_id,'edu_require']\n",
    "            # 当resume_edu为0时，就说明应聘者的学历未知\n",
    "            if resume_edu == 0:\n",
    "                return 1\n",
    "            elif resume_edu < joblist_edu:\n",
    "                return 0\n",
    "            else:\n",
    "                return 1\n",
    "        if zero_nature() == 0 or zero_salary() == 0 or zero_address() == 0 or zero_exp()  == 0 or zero_edu() == 0:\n",
    "            return 0\n",
    "        else:\n",
    "            return 1\n",
    "\n",
    "    # def calculate_other_match(self, text1, text2):\n",
    "    #     # 自定义的匹配度计算方法\n",
    "    #     # 例如，可以使用Jaccard相似度计算两个文本之间的匹配度\n",
    "    #     tokens1 = set(text1.split())\n",
    "    #     tokens2 = set(text2.split())\n",
    "    #     return len(tokens1 & tokens2) / len(tokens1 | tokens2)\n",
    "    \n",
    "    def calculate_bert_match(self, resume_id, joblist_id):\n",
    "        resume_embedding = self.model.encode(resume_inf.loc[resume_id, 'concatenated'], convert_to_tensor=True)\n",
    "        joblist_embedding = self.model.encode(joblist_inf.loc[joblist_id, 'concatenated'], convert_to_tensor=True)\n",
    "\n",
    "        # 计算两个句子的余弦相似度\n",
    "        cosine_scores = util.pytorch_cos_sim(resume_embedding, joblist_embedding)\n",
    "        return cosine_scores.item()\n",
    "    \n",
    "    def knowledge_graph_match(self, resume_id, joblist_id):\n",
    "        # 基于Neo4j的知识图谱匹配度计算方法\n",
    "\n",
    "        # 定义您的 Cypher 查询\n",
    "        cypher_query = f\"\"\"\n",
    "        MATCH (a1:ID {{name: '{resume_id}'}})-->(b1)\n",
    "        WITH a1, collect(id(b1)) AS p1\n",
    "        MATCH (a2:ID {{name: '{joblist_id}'}})-->(b2)\n",
    "        WITH a1, p1, a2, collect(id(b2)) AS p2\n",
    "        RETURN a1.name AS from, a2.name AS to, gds.similarity.jaccard(p1, p2) AS similarity\n",
    "        \"\"\"\n",
    "        # 在 Neo4j 中运行查询并获取结果\n",
    "        result = self.graph.run(cypher_query).to_data_frame()\n",
    "        return result.loc[0,'similarity']\n",
    "    \n",
    "    def Match_Calculator(self, resume_id, joblist_id):\n",
    "        if self.is_zero(resume_id, joblist_id) == 0:\n",
    "            # print('匹配度为0')\n",
    "            return 0\n",
    "        else:\n",
    "            return self.calculate_bert_match(resume_id, joblist_id)\n"
   ]
  },
  {
   "cell_type": "code",
   "execution_count": 2,
   "metadata": {},
   "outputs": [
    {
     "data": {
      "application/vnd.jupyter.widget-view+json": {
       "model_id": "9729982f2eae4364a7f192ff2009204f",
       "version_major": 2,
       "version_minor": 0
      },
      "text/plain": [
       "Downloading (…)90ad8/.gitattributes:   0%|          | 0.00/737 [00:00<?, ?B/s]"
      ]
     },
     "metadata": {},
     "output_type": "display_data"
    },
    {
     "data": {
      "application/vnd.jupyter.widget-view+json": {
       "model_id": "32627a6012dc4db08278c517d8a4cc24",
       "version_major": 2,
       "version_minor": 0
      },
      "text/plain": [
       "Downloading (…)809e490ad8/README.md:   0%|          | 0.00/2.76k [00:00<?, ?B/s]"
      ]
     },
     "metadata": {},
     "output_type": "display_data"
    },
    {
     "data": {
      "application/vnd.jupyter.widget-view+json": {
       "model_id": "d9acae13ad584a5b8a864931a52d4fa8",
       "version_major": 2,
       "version_minor": 0
      },
      "text/plain": [
       "Downloading (…)9e490ad8/config.json:   0%|          | 0.00/559 [00:00<?, ?B/s]"
      ]
     },
     "metadata": {},
     "output_type": "display_data"
    },
    {
     "data": {
      "application/vnd.jupyter.widget-view+json": {
       "model_id": "930cb28c1fb04ce181ad75525c7e0685",
       "version_major": 2,
       "version_minor": 0
      },
      "text/plain": [
       "Downloading pytorch_model.bin:   0%|          | 0.00/409M [00:00<?, ?B/s]"
      ]
     },
     "metadata": {},
     "output_type": "display_data"
    },
    {
     "data": {
      "application/vnd.jupyter.widget-view+json": {
       "model_id": "8d758c14ef804324ba3731f29916ce6e",
       "version_major": 2,
       "version_minor": 0
      },
      "text/plain": [
       "Downloading (…)cial_tokens_map.json:   0%|          | 0.00/112 [00:00<?, ?B/s]"
      ]
     },
     "metadata": {},
     "output_type": "display_data"
    },
    {
     "data": {
      "application/vnd.jupyter.widget-view+json": {
       "model_id": "a71c9126cf0945118612e2ad06368d9e",
       "version_major": 2,
       "version_minor": 0
      },
      "text/plain": [
       "Downloading (…)okenizer_config.json:   0%|          | 0.00/320 [00:00<?, ?B/s]"
      ]
     },
     "metadata": {},
     "output_type": "display_data"
    },
    {
     "data": {
      "application/vnd.jupyter.widget-view+json": {
       "model_id": "118a242fbc2f4e1695c80e7ff6c63464",
       "version_major": 2,
       "version_minor": 0
      },
      "text/plain": [
       "Downloading (…)809e490ad8/vocab.txt:   0%|          | 0.00/110k [00:00<?, ?B/s]"
      ]
     },
     "metadata": {},
     "output_type": "display_data"
    },
    {
     "name": "stderr",
     "output_type": "stream",
     "text": [
      "No sentence-transformers model found with name C:\\Users\\diaobaole/.cache\\torch\\sentence_transformers\\uer_sbert-base-chinese-nli. Creating a new one with MEAN pooling.\n"
     ]
    }
   ],
   "source": [
    "model = SentenceTransformer(\"uer/sbert-base-chinese-nli\")\n",
    "# graph = Graph('http://localhost:7474/',auth = ('neo4j','zhouyang201202'))\n",
    "sentence1 = \"shuju\""
   ]
  },
  {
   "cell_type": "code",
   "execution_count": 9,
   "metadata": {},
   "outputs": [],
   "source": [
    "matchdegree = MatchCalculator(model)"
   ]
  },
  {
   "cell_type": "code",
   "execution_count": 195,
   "metadata": {},
   "outputs": [],
   "source": [
    "match_degree = pd.DataFrame(columns=['招聘信息 ID', '求职者 ID','规则匹配度', '长文本匹配度', '知识图谱匹配度', '岗位匹配度'])\n",
    "Satisfaction_degree = pd.DataFrame(columns=['求职者 ID', '招聘信息 ID', '公司名称', '岗位匹配度'])"
   ]
  },
  {
   "cell_type": "code",
   "execution_count": 10,
   "metadata": {},
   "outputs": [
    {
     "name": "stderr",
     "output_type": "stream",
     "text": [
      "100%|██████████| 1572/1572 [45:25<00:00,  1.73s/it] \n"
     ]
    }
   ],
   "source": [
    "match_degree = []\n",
    "for i in tqdm(joblist_inf.index.tolist()):\n",
    "    for j in resume_inf.index.tolist():\n",
    "        match_list = matchdegree.Match_Calculator(j,i)\n",
    "        match_degree.append({'招聘信息 ID' : i,\n",
    "                             '求职者 ID' : j,\n",
    "                             '长文本匹配度' : match_list})\n",
    "match_degree = pd.DataFrame(match_degree)"
   ]
  },
  {
   "cell_type": "code",
   "execution_count": 16,
   "metadata": {},
   "outputs": [],
   "source": [
    "# match_degree = pd.read_excel('../../../demo3/BERT匹配度.xlsx',dtype = {'招聘信息 ID':str,'求职者 ID':str}).drop(columns='长文本匹配度归一化').drop(columns='Unnamed: 0')"
   ]
  },
  {
   "cell_type": "code",
   "execution_count": 14,
   "metadata": {},
   "outputs": [],
   "source": [
    "match_degree_copy = match_degree.copy()\n",
    "from sklearn.preprocessing import MinMaxScaler\n",
    "\n",
    "scaler = MinMaxScaler()\n",
    "match_degree_copy.drop(match_degree_copy.loc[match_degree_copy['长文本匹配度']==0].index, inplace=True)\n",
    "\n",
    "def ratings_norm(df):\n",
    "    df[\"长文本匹配度归一化\"] = scaler.fit_transform(df[['长文本匹配度']])\n",
    "    return df  # 返回归一化后的数据\n",
    "\n",
    "match_degree_group_joblist = match_degree_copy.groupby(\"招聘信息 ID\", group_keys=True).apply(ratings_norm)\n",
    "match_degree_group_joblist['长文本匹配度归一化'] = match_degree_group_joblist['长文本匹配度归一化'].apply(lambda x: 0.0005 if x == 0 else x)\n",
    "\n",
    "match_degree_group_joblist.to_excel('../../../demo3/BERT匹配度_招聘信息.xlsx')"
   ]
  },
  {
   "cell_type": "code",
   "execution_count": 15,
   "metadata": {},
   "outputs": [],
   "source": [
    "match_degree_copy = match_degree.copy()\n",
    "from sklearn.preprocessing import MinMaxScaler\n",
    "\n",
    "scaler = MinMaxScaler()\n",
    "match_degree_copy.drop(match_degree_copy.loc[match_degree_copy['长文本匹配度']==0].index, inplace=True)\n",
    "\n",
    "def ratings_norm(df):\n",
    "    df[\"长文本匹配度归一化\"] = scaler.fit_transform(df[['长文本匹配度']])\n",
    "    return df  # 返回归一化后的数据\n",
    "\n",
    "match_degree_group_resume = match_degree_copy.groupby('求职者 ID', group_keys=True).apply(ratings_norm)\n",
    "match_degree_group_resume['长文本匹配度归一化'] = match_degree_group_resume['长文本匹配度归一化'].apply(lambda x: 0.0005 if x == 0 else x)\n",
    "match_degree_group_resume.to_excel('../../../demo3/BERT匹配度_求职者.xlsx')"
   ]
  }
 ],
 "metadata": {
  "kernelspec": {
   "display_name": "nlp",
   "language": "python",
   "name": "python3"
  },
  "language_info": {
   "codemirror_mode": {
    "name": "ipython",
    "version": 3
   },
   "file_extension": ".py",
   "mimetype": "text/x-python",
   "name": "python",
   "nbconvert_exporter": "python",
   "pygments_lexer": "ipython3",
   "version": "3.10.10"
  },
  "orig_nbformat": 4
 },
 "nbformat": 4,
 "nbformat_minor": 2
}
