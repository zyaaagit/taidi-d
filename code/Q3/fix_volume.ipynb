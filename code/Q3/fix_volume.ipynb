{
 "cells": [
  {
   "cell_type": "code",
   "execution_count": 1,
   "metadata": {},
   "outputs": [],
   "source": [
    "import pandas as pd\n",
    "import numpy as np\n",
    "\n",
    "joblist_match_path = r'D:\\TEDDDDY\\Q4\\岗位匹配度.csv'\n",
    "resume_match_path = r'D:\\TEDDDDY\\Q4\\求职者满意度.csv'\n",
    "resume_type = {'招聘信息 ID': str, '求职者 ID': str}\n",
    "\n",
    "job_match_resume = pd.read_csv(joblist_match_path, dtype=resume_type)\n",
    "resume_match_job = pd.read_csv(resume_match_path, dtype=resume_type)\n"
   ]
  },
  {
   "cell_type": "code",
   "execution_count": 3,
   "metadata": {},
   "outputs": [],
   "source": [
    "job_match_resume.columns = ['job_id', 'resume_id', 'ratio']\n",
    "resume_match_job.columns = ['job_id', 'resume_id', 'ratio']\n"
   ]
  },
  {
   "cell_type": "code",
   "execution_count": 18,
   "metadata": {},
   "outputs": [],
   "source": [
    "# 定义一个函数来删除每个组中 ratio 较小的25%的数据\n",
    "def filter_low_ratios(group, rate=0.25):\n",
    "    threshold = group['ratio'].quantile(rate)\n",
    "    return group[group['ratio'] > threshold]\n",
    "\n",
    "\n",
    "filter_job_match_resume = job_match_resume.groupby('job_id').apply(filter_low_ratios, 0.24)\n",
    "filter_job_match_resume.reset_index(drop=True, inplace=True)\n",
    "\n",
    "filter_resume_match_job = resume_match_job.groupby('resume_id').apply(filter_low_ratios, 0.75)\n",
    "filter_resume_match_job.reset_index(drop=True, inplace=True)\n",
    "\n",
    "filter_job_match_resume.to_csv('job_match_resume.csv', index=False)\n",
    "filter_resume_match_job.to_csv('resume_match_job.csv', index=False)"
   ]
  },
  {
   "cell_type": "code",
   "execution_count": 17,
   "metadata": {},
   "outputs": [
    {
     "data": {
      "text/plain": [
       "resume_id\n",
       " 7531755679844593172    310\n",
       " 7536520357648985620    310\n",
       " 7536520237389901332    310\n",
       " 7536520233094934036    310\n",
       " 7536520228799966740    310\n",
       "                       ... \n",
       "1645385086935367680       1\n",
       "1640319370922164224       1\n",
       "1475688461037076480       1\n",
       "1483350550874554368       1\n",
       "1461663453243637760       1\n",
       "Name: count, Length: 8190, dtype: int64"
      ]
     },
     "execution_count": 17,
     "metadata": {},
     "output_type": "execute_result"
    }
   ],
   "source": [
    "filter_resume_match_job['resume_id'].value_counts()\n",
    "\n",
    "# filter_resume_match_job['resume_id'].value_counts()"
   ]
  },
  {
   "cell_type": "code",
   "execution_count": 31,
   "metadata": {},
   "outputs": [
    {
     "data": {
      "text/plain": [
       "resume_id\n",
       " 7537508230191836692    1547\n",
       " 7535962256713641492    1547\n",
       " 7536262784165277204    1547\n",
       " 7536219928981597716    1547\n",
       " 7536176983603605012    1547\n",
       "                        ... \n",
       " 7533901926542011924       1\n",
       " 7533901922247044628       1\n",
       " 7533901917952077332       1\n",
       " 7533901913657110036       1\n",
       " 7533773017393589780       1\n",
       "Name: count, Length: 8188, dtype: int64"
      ]
     },
     "execution_count": 31,
     "metadata": {},
     "output_type": "execute_result"
    }
   ],
   "source": [
    "filter_job_match_resume = job_match_resume.groupby('job_id').apply(filter_low_ratios, 0.24)\n",
    "filter_job_match_resume.reset_index(drop=True, inplace=True)\n",
    "filter_job_match_resume.to_csv('job_match_resume.csv', index=False)\n",
    "filter_job_match_resume['resume_id'].value_counts()"
   ]
  },
  {
   "cell_type": "code",
   "execution_count": 27,
   "metadata": {},
   "outputs": [
    {
     "data": {
      "text/plain": [
       "resume_id\n",
       " 7536005361005424148    2723\n",
       " 7535791089381994004    2723\n",
       " 7535748290032889364    2723\n",
       " 7535704807783984660    2723\n",
       " 7535533696286912020    2723\n",
       "                        ... \n",
       "1648221000086716416        5\n",
       "1647944223779061760        5\n",
       "1484409030448381952        4\n",
       "1461526224282189824        1\n",
       "1470284037246550016        1\n",
       "Name: count, Length: 8190, dtype: int64"
      ]
     },
     "execution_count": 27,
     "metadata": {},
     "output_type": "execute_result"
    }
   ],
   "source": [
    "hah = pd.concat([filter_job_match_resume, filter_resume_match_job])\n",
    "hah['resume_id'].value_counts()"
   ]
  },
  {
   "cell_type": "code",
   "execution_count": 30,
   "metadata": {},
   "outputs": [
    {
     "data": {
      "text/plain": [
       "4475907"
      ]
     },
     "execution_count": 30,
     "metadata": {},
     "output_type": "execute_result"
    }
   ],
   "source": [
    "len(filter_job_match_resume)\n",
    "len(filter_resume_match_job)"
   ]
  },
  {
   "cell_type": "code",
   "execution_count": 20,
   "metadata": {},
   "outputs": [],
   "source": [
    "id = '1374177417123467264'\n",
    "\n",
    "\n",
    "bb = job_match_resume[job_match_resume['job_id'] == id]\n",
    "cc = filter_job_match_resume[filter_job_match_resume['job_id'] == id]"
   ]
  },
  {
   "cell_type": "code",
   "execution_count": 35,
   "metadata": {},
   "outputs": [
    {
     "data": {
      "text/html": [
       "<div>\n",
       "<style scoped>\n",
       "    .dataframe tbody tr th:only-of-type {\n",
       "        vertical-align: middle;\n",
       "    }\n",
       "\n",
       "    .dataframe tbody tr th {\n",
       "        vertical-align: top;\n",
       "    }\n",
       "\n",
       "    .dataframe thead th {\n",
       "        text-align: right;\n",
       "    }\n",
       "</style>\n",
       "<table border=\"1\" class=\"dataframe\">\n",
       "  <thead>\n",
       "    <tr style=\"text-align: right;\">\n",
       "      <th></th>\n",
       "      <th>job_id</th>\n",
       "      <th>resume_id</th>\n",
       "      <th>ratio</th>\n",
       "    </tr>\n",
       "  </thead>\n",
       "  <tbody>\n",
       "    <tr>\n",
       "      <th>1122</th>\n",
       "      <td>1374177686322286592</td>\n",
       "      <td>7538237262235627028</td>\n",
       "      <td>0.402634</td>\n",
       "    </tr>\n",
       "    <tr>\n",
       "      <th>1123</th>\n",
       "      <td>1374177686322286592</td>\n",
       "      <td>7534845921698967060</td>\n",
       "      <td>0.375726</td>\n",
       "    </tr>\n",
       "    <tr>\n",
       "      <th>1124</th>\n",
       "      <td>1374177686322286592</td>\n",
       "      <td>7536735453906136596</td>\n",
       "      <td>0.375726</td>\n",
       "    </tr>\n",
       "    <tr>\n",
       "      <th>1125</th>\n",
       "      <td>1374177686322286592</td>\n",
       "      <td>7531970196281159188</td>\n",
       "      <td>0.407610</td>\n",
       "    </tr>\n",
       "    <tr>\n",
       "      <th>1126</th>\n",
       "      <td>1374177686322286592</td>\n",
       "      <td>7532313553146670612</td>\n",
       "      <td>0.407610</td>\n",
       "    </tr>\n",
       "    <tr>\n",
       "      <th>...</th>\n",
       "      <td>...</td>\n",
       "      <td>...</td>\n",
       "      <td>...</td>\n",
       "    </tr>\n",
       "    <tr>\n",
       "      <th>2937</th>\n",
       "      <td>1374177686322286592</td>\n",
       "      <td>7539825601271229972</td>\n",
       "      <td>0.384267</td>\n",
       "    </tr>\n",
       "    <tr>\n",
       "      <th>2938</th>\n",
       "      <td>1374177686322286592</td>\n",
       "      <td>7539868568124059156</td>\n",
       "      <td>0.321030</td>\n",
       "    </tr>\n",
       "    <tr>\n",
       "      <th>2939</th>\n",
       "      <td>1374177686322286592</td>\n",
       "      <td>7539868623958634004</td>\n",
       "      <td>0.385421</td>\n",
       "    </tr>\n",
       "    <tr>\n",
       "      <th>2940</th>\n",
       "      <td>1374177686322286592</td>\n",
       "      <td>7539911526386953748</td>\n",
       "      <td>0.339526</td>\n",
       "    </tr>\n",
       "    <tr>\n",
       "      <th>2941</th>\n",
       "      <td>1374177686322286592</td>\n",
       "      <td>7539911534976888340</td>\n",
       "      <td>0.303096</td>\n",
       "    </tr>\n",
       "  </tbody>\n",
       "</table>\n",
       "<p>1820 rows × 3 columns</p>\n",
       "</div>"
      ],
      "text/plain": [
       "                   job_id             resume_id     ratio\n",
       "1122  1374177686322286592   7538237262235627028  0.402634\n",
       "1123  1374177686322286592   7534845921698967060  0.375726\n",
       "1124  1374177686322286592   7536735453906136596  0.375726\n",
       "1125  1374177686322286592   7531970196281159188  0.407610\n",
       "1126  1374177686322286592   7532313553146670612  0.407610\n",
       "...                   ...                   ...       ...\n",
       "2937  1374177686322286592   7539825601271229972  0.384267\n",
       "2938  1374177686322286592   7539868568124059156  0.321030\n",
       "2939  1374177686322286592   7539868623958634004  0.385421\n",
       "2940  1374177686322286592   7539911526386953748  0.339526\n",
       "2941  1374177686322286592   7539911534976888340  0.303096\n",
       "\n",
       "[1820 rows x 3 columns]"
      ]
     },
     "execution_count": 35,
     "metadata": {},
     "output_type": "execute_result"
    }
   ],
   "source": [
    "filter_job_match_resume[filter_job_match_resume['job_id'] == '1374177686322286592']"
   ]
  }
 ],
 "metadata": {
  "kernelspec": {
   "display_name": "NLP",
   "language": "python",
   "name": "python3"
  },
  "language_info": {
   "codemirror_mode": {
    "name": "ipython",
    "version": 3
   },
   "file_extension": ".py",
   "mimetype": "text/x-python",
   "name": "python",
   "nbconvert_exporter": "python",
   "pygments_lexer": "ipython3",
   "version": "3.10.10"
  },
  "orig_nbformat": 4
 },
 "nbformat": 4,
 "nbformat_minor": 2
}
