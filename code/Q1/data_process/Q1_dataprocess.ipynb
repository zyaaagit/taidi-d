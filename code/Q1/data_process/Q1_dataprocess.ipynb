{
 "cells": [
  {
   "cell_type": "code",
   "execution_count": 1,
   "metadata": {},
   "outputs": [],
   "source": [
    "import jieba\n",
    "import jieba.analyse\n",
    "import pandas as pd\n",
    "import numpy as np\n",
    "from datetime import datetime\n",
    "import openai \n",
    "import json\n",
    "from py2neo import Graph, Node, Relationship\n",
    "from pypinyin import lazy_pinyin\n",
    "import os"
   ]
  },
  {
   "attachments": {},
   "cell_type": "markdown",
   "metadata": {},
   "source": [
    "resume文件中存在垃圾数据，需要进行数据清洗"
   ]
  },
  {
   "cell_type": "code",
   "execution_count": 11,
   "metadata": {},
   "outputs": [],
   "source": [
    "# 读取的工作目录\n",
    "resume_inf_path = '../../../demo1/Q1_resume.xlsx'\n",
    "special_stopwords_path = 'stopwords/原数据中的停用词.txt'\n",
    "\n",
    "# 保存的工作目录\n",
    "resume_inf_save_excel = '../../../demo1/Q1_resume.xlsx'\n",
    "resume_inf_save_csv = '../../../提交文件/result1-2.csv'"
   ]
  },
  {
   "cell_type": "code",
   "execution_count": 3,
   "metadata": {},
   "outputs": [],
   "source": [
    "# 获取停用词，并输入列表\n",
    "special_stopwords = open(special_stopwords_path,'r')\n",
    "stopwords_special = []\n",
    "\n",
    "for i in special_stopwords.readlines():\n",
    "    stopwords_special.append(i.strip()) "
   ]
  },
  {
   "cell_type": "code",
   "execution_count": 12,
   "metadata": {},
   "outputs": [],
   "source": [
    "# 由于获取的resume表中，存在一些停用词，因此对它进行清洗\n",
    "resume_inf = pd.read_excel(resume_inf_path, dtype = {'id':str})     #应聘人员信息\n",
    "for i in resume_inf.columns[1:]:\n",
    "    resume_inf[i] = resume_inf[i].map(lambda x:'' if x in stopwords_special else x)\n",
    "resume_inf.to_excel(resume_inf_save_excel,index=False)\n",
    "resume_inf.to_csv(resume_inf_save_csv,index=False)"
   ]
  }
 ],
 "metadata": {
  "kernelspec": {
   "display_name": "nlp",
   "language": "python",
   "name": "python3"
  },
  "language_info": {
   "codemirror_mode": {
    "name": "ipython",
    "version": 3
   },
   "file_extension": ".py",
   "mimetype": "text/x-python",
   "name": "python",
   "nbconvert_exporter": "python",
   "pygments_lexer": "ipython3",
   "version": "3.9.13"
  },
  "orig_nbformat": 4
 },
 "nbformat": 4,
 "nbformat_minor": 2
}
